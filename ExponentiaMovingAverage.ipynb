{
 "cells": [
  {
   "cell_type": "code",
   "execution_count": null,
   "metadata": {
    "collapsed": true
   },
   "outputs": [],
   "source": [
    "import tensorflow as tf\n",
    "\n",
    "# 定义一个变量用于计算滑动平均， 这个变量的初始值为 0 。 注意这里手动指定 了变盘的\n",
    "# 类型为 tf.float32 ， 因为所有需要计算 滑动平均的变量必须是实数型。\n",
    "vl = tf.Variable(0, dtype=tf.float32) \n",
    "# 这里 step 变量模拟神经网络中迭代的轮数 ，可以用于动态控制衰减率 。 \n",
    "step = tf.Variable(0, trainable=False)\n",
    "\n",
    "# 定义一个滑动平均的类,初始化时给定了衰减率0.99, 和控制衰减率的 变量step\n",
    "ema = tf.train.ExponentialMovingAverage(0.99, step)\n",
    "\n",
    "# 定义一个更新变量滑动平均的操作, 这里需要给定一个列表,每次执行这个操作时这个列表中的变量都会被更新\n",
    "maintain_averages_op = ema.apply([vl])\n",
    "\n",
    "with tf.Session() as sess:\n",
    "    # 初始化所有变量 。\n",
    "    init_op= tf.global_variables_initializer()\n",
    "    sess.run(init_op)\n",
    "    # 通过 ema.average(vl)获取滑动平均之后变量的取值,在初始化之后变量v1的值和v1的滑动平均都是0\n",
    "    pring sess.run([v1, ema.average(v1)])\n",
    "    # 更新v1的值到5\n",
    "    sess.run(tf.assign(vl,5))\n",
    "    # 更新 vl的滑动平均值。 衰减率为 m工n{0 . 99 , (l+step)/(lO+ step)=0 . 1)=0 . l\n",
    "    # 所以 vl 的滑动平均会被更 新为 0.1 × 0+0 . 9× 5=4 . 5 。\n",
    "    sess.run(maintain_averages_op)\n",
    "    print sess.run([v1, ema.average(v1)])\n",
    "    \n",
    "    # 更新step的值为10000\n",
    "    sess.run(tf.assign(step, 10000))\n",
    "    \n",
    "    # 更新v1的值为10\n",
    "    sess.run(tf.assign(v1, 10))\n",
    "    \n",
    "    # 更新 vl 的滑动平均值。 衰减率为 min{0.99 , (l+step)/(10+step) 约等于 0 . 999}=0 . 99\n",
    "    # 所以 vl 的滑动平均会被更 新为 0 . 99x4 . 5+0 . 0lxl0=4 . 555 。\n",
    "    \n",
    "    sess.run(maintain_averages_op)\n",
    "    print sess.run([vl , ema.average(v1)])\n",
    "    # 输出［ 10 . 0 , 4 . 5549998]\n",
    "    # 再次更新滑动平 均值， 得到的新滑动平均 值为 0.99× 4.555+0 . 0lxl0=4 . 60945\n",
    "    sess.run(maintain_averages_op)\n",
    "    print sess.run([vl, ema.average(vl)])\n",
    "    # 输出［ 10.0 , 4.6094499]\n",
    "    \n",
    "    \n"
   ]
  }
 ],
 "metadata": {
  "kernelspec": {
   "display_name": "Python 2",
   "language": "python",
   "name": "python2"
  },
  "language_info": {
   "codemirror_mode": {
    "name": "ipython",
    "version": 2
   },
   "file_extension": ".py",
   "mimetype": "text/x-python",
   "name": "python",
   "nbconvert_exporter": "python",
   "pygments_lexer": "ipython2",
   "version": "2.7.13"
  }
 },
 "nbformat": 4,
 "nbformat_minor": 2
}
