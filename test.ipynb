{
 "cells": [
  {
   "cell_type": "code",
   "execution_count": 4,
   "metadata": {},
   "outputs": [
    {
     "name": "stdout",
     "output_type": "stream",
     "text": [
      "1\n"
     ]
    }
   ],
   "source": [
    "import tensorflow as tf\n",
    "from numpy.random import RandomState\n",
    "import numpy as np\n"
   ]
  },
  {
   "cell_type": "code",
   "execution_count": 8,
   "metadata": {},
   "outputs": [
    {
     "name": "stdout",
     "output_type": "stream",
     "text": [
      "1\n",
      "[1 2 1 2]\n",
      "[1 2 3]\n"
     ]
    }
   ],
   "source": [
    "# argmax返回的是最大数的索引\n",
    "a = np.array([3, 5, 2, 5, 5, 1])\n",
    "print(np.argmax(a))\n",
    "\n",
    "a = np.array([[1, 5, 5, 2],\n",
    "              [9, 6, 12, 8],\n",
    "              [3, 7, 9, 10]])\n",
    "print(np.argmax(a, axis=0))\n",
    "print(np.argmax(a, axis=1))"
   ]
  },
  {
   "cell_type": "code",
   "execution_count": 2,
   "metadata": {
    "collapsed": true
   },
   "outputs": [],
   "source": [
    "# 实战Google深度学习实战\n",
    "# 回归问题损失函数的定义,使用单层神经网络 P80\n",
    "batch_size = 8"
   ]
  },
  {
   "cell_type": "code",
   "execution_count": 3,
   "metadata": {},
   "outputs": [
    {
     "data": {
      "text/plain": [
       "'\\n# \\xe4\\xbd\\xbf\\xe7\\x94\\xa8\\xe6\\x8c\\x87\\xe6\\x95\\xb0\\xe8\\xa1\\xb0\\xe5\\x87\\x8f\\xe7\\x9a\\x84\\xe5\\xad\\xa6\\xe4\\xb9\\xa0\\xe7\\x8e\\x87\\nglobal_step = tf.Variable(0)\\n# \\xe9\\x80\\x9a\\xe8\\xbf\\x87exponential_decay\\xe5\\x87\\xbd\\xe6\\x95\\xb0\\xe7\\x94\\x9f\\xe6\\x88\\x90\\xe5\\xad\\xa6\\xe4\\xb9\\xa0\\xe7\\x8e\\x87, \\xe8\\xae\\xbe\\xe7\\xbd\\xae\\xe4\\xba\\x86\\xe9\\x98\\xb6\\xe6\\xa2\\xaf\\xe4\\xb8\\x8b\\xe9\\x99\\x8d,\\xe6\\xaf\\x8f\\xe8\\xae\\xad\\xe7\\xbb\\x83100\\xe8\\xbd\\xae\\xe5\\x90\\x8e\\xe5\\xad\\xa6\\xe4\\xb9\\xa0\\xe7\\x8e\\x87\\xe4\\xb9\\x98\\xe4\\xbb\\xa50.96\\nlearning_rate = tf.train.exponential_decay(0.1, global_step, 100, 0.96, staircase=True)\\n# \\xe4\\xbd\\xbf\\xe7\\x94\\xa8\\xe6\\x8c\\x87\\xe6\\x95\\xb0\\xe8\\xa1\\xb0\\xe5\\x87\\x8f\\xe7\\x9a\\x84\\xe5\\xad\\xa6\\xe4\\xb9\\xa0\\xe7\\x8e\\x87, \\xe5\\x9c\\xa8minimize\\xe5\\x87\\xbd\\xe6\\x95\\xb0\\xe4\\xb8\\xad\\xe4\\xbc\\xa0\\xe5\\x85\\xa5global_step\\xe5\\xb0\\x86\\xe8\\x87\\xaa\\xe5\\x8a\\xa8\\xe6\\x9b\\xb4\\xe6\\x96\\xb0global_step\\xe5\\x8f\\x82\\xe6\\x95\\xb0,\\xe4\\xbb\\x8e\\xe8\\x80\\x8c\\xe4\\xbd\\xbf\\xe5\\xbe\\x97\\xe5\\xad\\xa6\\xe4\\xb9\\xa0\\xe7\\x8e\\x87\\xe4\\xb9\\x9f\\xe5\\xbe\\x97\\xe5\\x88\\xb0\\xe7\\x9b\\xb8\\xe5\\xba\\x94\\xe6\\x9b\\xb4\\xe6\\x96\\xb0\\nlearning_step = tf.train.GradientDescentOptimizer(learning_rate).minimize(loss, global_step=global_step)\\n'"
      ]
     },
     "execution_count": 3,
     "metadata": {},
     "output_type": "execute_result"
    }
   ],
   "source": [
    "# 2个输入节点\n",
    "x = tf.placeholder(tf.float32, shape=(None, 2), name='x-input')\n",
    "# 回归问题一般只有1个输出节点\n",
    "y_ = tf.placeholder(tf.float32, shape=(None, 1), name='y-input')\n",
    "\n",
    "# 定义一个单层的神经网络前向传播过程, 这里就是简单加权和\n",
    "# 满足正态分布,均方差为1的数据\n",
    "w1 = tf.Variable(tf.random_normal([2,1], stddev=1, seed=1))\n",
    "y = tf.matmul(x, w1)\n",
    "\n",
    "# 定义损失, 预测多了和预测少了的成本, 根据业务实际情况选择参数, 这里预测多了损失为1, 预测少了损失为10\n",
    "loss_less = 10\n",
    "loss_more = 1\n",
    "loss = tf.reduce_sum(tf.where(tf.greater(y,y_), (y-y_)*loss_more, (y_-y)*loss_less))\n",
    "\n",
    "\"\"\"\n",
    "使用L2正则化的损失函数\n",
    "由2部分构成, 第一部分为均方差损失函数, 第二个部分就是正则化,它防止模型过度模拟训练数据中的随机噪音. \n",
    "lambda参数表示了正则化项的权重, w为需要计算正则化损失的参数.\n",
    "loss = tf.reduce_mean(tf.square(y_ - y) + tf.contrib.layers.l2_regularizer(lambda)(w))\n",
    "\n",
    "\"\"\"\n",
    "\n",
    "train_step = tf.train.AdamOptimizer(0.001).minimize(loss)\n",
    "\n",
    "\"\"\"\n",
    "# 使用指数衰减的学习率\n",
    "global_step = tf.Variable(0)\n",
    "# 通过exponential_decay函数生成学习率, 设置了阶梯下降,每训练100轮后学习率乘以0.96\n",
    "learning_rate = tf.train.exponential_decay(0.1, global_step, 100, 0.96, staircase=True)\n",
    "# 使用指数衰减的学习率, 在minimize函数中传入global_step将自动更新global_step参数,从而使得学习率也得到相应更新\n",
    "learning_step = tf.train.GradientDescentOptimizer(learning_rate).minimize(loss, global_step=global_step)\n",
    "\"\"\"\n",
    "\n",
    "\n"
   ]
  },
  {
   "cell_type": "code",
   "execution_count": 4,
   "metadata": {},
   "outputs": [
    {
     "data": {
      "text/plain": [
       "(128, 2)"
      ]
     },
     "execution_count": 4,
     "metadata": {},
     "output_type": "execute_result"
    }
   ],
   "source": [
    "# 通过随机数生成一个模拟数据集, 128 x 2\n",
    "rdm = RandomState(1)\n",
    "dataset_size = 128\n",
    "X = rdm.rand(dataset_size, 2)\n",
    "X.shape\n",
    "# X"
   ]
  },
  {
   "cell_type": "code",
   "execution_count": 5,
   "metadata": {
    "collapsed": true
   },
   "outputs": [],
   "source": [
    "# 设置回归的正确值为两个输入的和加上一个随机量, 是为了加入不可预测的噪音, 否则不同损失函数的意义就不大了.因为不同损失函数都会\n",
    "# 在能完全预测正确时最低.一般噪音为一个均值为0的小量, 所以这里设置为-0.05 ~ 0.05的随机数\n",
    "Y = [[x1 + x2 + rdm.rand()/10.0-0.05] for (x1,x2) in X]\n",
    "# Y\n"
   ]
  },
  {
   "cell_type": "code",
   "execution_count": 6,
   "metadata": {},
   "outputs": [
    {
     "name": "stdout",
     "output_type": "stream",
     "text": [
      "[[-0.81031823]\n",
      " [ 1.4855988 ]]\n",
      "[[-0.34678397]\n",
      " [ 1.9075472 ]]\n",
      "[[0.01247112]\n",
      " [2.1385448 ]]\n",
      "[[0.27079922]\n",
      " [2.212271  ]]\n",
      "[[0.45567414]\n",
      " [2.1706066 ]]\n",
      "[[0.59347594]\n",
      " [2.0449932 ]]\n",
      "[[0.69968724]\n",
      " [1.8465308 ]]\n",
      "[[0.8010899]\n",
      " [1.5939   ]]\n",
      "[[0.89886665]\n",
      " [1.2973602 ]]\n",
      "[[1.0170875]\n",
      " [1.0466708]]\n"
     ]
    }
   ],
   "source": [
    "# 训练神经网络\n",
    "# weights= tf.constant([[l.O, -2 . 0), (-3 . 0, 4 . 0)))\n",
    "\n",
    "with tf.Session() as sess:\n",
    "    \"\"\"\n",
    "    L1和L2损失函数\n",
    "    # 输出为（|1|+|-2|＋|-3|+|4|)x0.5=5 。其中 0.5 为正则化项的权重。 \n",
    "    # print sess.run(tf.contrib.layers.l1_regularizer(.5)(weights)) \n",
    "    # 输出为（ 1^2+ (-2)^2+ (-3)^2+4^2 )/2 × 0.5=7.5\n",
    "    # print sess.run(tf.contrib.layers.l2_regularizer(.5)(weights))\n",
    "    \"\"\"\n",
    "    \n",
    "    init_op = tf.global_variables_initializer()\n",
    "    sess.run(init_op)\n",
    "    STEPS = 5000\n",
    "    for i in range(STEPS):\n",
    "        start = (i*batch_size) % dataset_size\n",
    "        end = min(start+batch_size, dataset_size)\n",
    "        sess.run(train_step,\n",
    "                feed_dict={x:X[start:end], y_:Y[start:end]})\n",
    "        if i % 500==0:\n",
    "            print sess.run(w1)"
   ]
  },
  {
   "cell_type": "code",
   "execution_count": 7,
   "metadata": {
    "collapsed": true
   },
   "outputs": [],
   "source": [
    "# 运行结果[[1.0194756] [1.043531 ]] 也就是预测函数为1.02x1+1.04x2 , 比x1+x2大, 因为损失函数中指定预测少了的损失更大\n",
    "# 如果使用均方差作为损失函数, 那么w1会是[0.9743, 1.0243], 使用这个损失函数会尽量让预测值离标准答案更近. \n",
    "# 对于相同的神经网络, 不同的损失函数会对训练得到的模型产生重要影响\n",
    "\n"
   ]
  },
  {
   "cell_type": "code",
   "execution_count": 15,
   "metadata": {},
   "outputs": [
    {
     "name": "stdout",
     "output_type": "stream",
     "text": [
      "Tensor(\"AddN_3:0\", shape=(), dtype=float32)\n"
     ]
    }
   ],
   "source": [
    "# 通过集合计算一个5层神经网络带L2正则化的损失函数, 定义网络结构和计算损失函数分开  \n",
    "\n",
    "# 获取－层神经网络边上的权重 并将这个权重的 L2 正则化损失加入名称为 ’ losses ’的集合中\n",
    "\n",
    "def get_weight (shape, lambdas):\n",
    "    # 生成一个变量。\n",
    "    var = tf.Variable(tf.random_normal(shape), dtype = tf.float32)\n",
    "    # add to collection 函数将这个新生成变量的 L2 正则化损失项加入集合。 \n",
    "    # 这个函数的第一个参数 ’ losses ’ 是集合的名字， 第二个参数是要加入这个集合的内容。 \n",
    "    tf.add_to_collection('losses', tf.contrib.layers.l2_regularizer(lambdas)(var))\n",
    "    # 返回生成的变量。\n",
    "    return var\n",
    "\n",
    "x = tf.placeholder(tf.float32, shape=(None,2))\n",
    "y_ = tf.placeholder(tf.float32, shape=(None,1))\n",
    "batch_size = 8\n",
    "# 定义了每一层网络中节点的个数 。 \n",
    "layer_dimension = [2 , 10 , 10 , 10 , 1] \n",
    "# 神经网络的层数。 \n",
    "n_layers = len(layer_dimension)\n",
    "\n",
    "# 这个变量维护前向传播时最深层的节点， 开始的时候就是输入层。\n",
    "\n",
    "cur_layer = x \n",
    "\n",
    "# 当前层的节点个数。 \n",
    "in_dimension = layer_dimension[0]\n",
    "\n",
    "# 通过一个循环来生成5层全连接的冲经网络结构。\n",
    "\n",
    "for i in range(1, n_layers):\n",
    "    # layer dimension[i ）为下一层的节点个数。 \n",
    "    out_dimension = layer_dimension[i] \n",
    "    #生成当前层中权重的变量， 并将这个变量的L2正则化损失加入计算图上的集合。 \n",
    "    weight= get_weight([in_dimension, out_dimension], 0.001)\n",
    "    bias = tf.Variable(tf.constant(0.1, shape=[out_dimension]))\n",
    "\n",
    "    # 使用 ReLU 激活函数。\n",
    "    cur_layer= tf.nn.relu(tf.matmul(cur_layer, weight) + bias)\n",
    "    #进入下一层之前将下一层的节点 个数更新为当前层节点个数。 \n",
    "    in_dimension = layer_dimension[i]\n",
    "\n",
    "# 在定义神经网络前向传播的同时 已经将所有的 L2 正则化损失加入了图上的集合\n",
    "# 这里只需要计算刻画模型在训练 数据上表现的损失函数。\n",
    "\n",
    "mse_loss= tf.reduce_mean(tf.square(y_ - cur_layer))\n",
    "\n",
    "#将均方误差损失函数加入损失集合。\n",
    "tf.add_to_collection ('losses', mse_loss)\n",
    "\n",
    "# get_collection 返回一个列表 ，这个列表是所有这个集合中的元素 。\n",
    "# 在这个样例中, 这些元素就是损失函数的不同部 分， 将它们加起来就可以得到最终的损 失函数。\n",
    "\n",
    "loss = tf.add_n(tf.get_collection('losses'))\n",
    "print loss"
   ]
  },
  {
   "cell_type": "code",
   "execution_count": 19,
   "metadata": {},
   "outputs": [
    {
     "ename": "FailedPreconditionError",
     "evalue": "Attempting to use uninitialized value Variable_37\n\t [[Node: _retval_Variable_37_0_0 = _Retval[T=DT_FLOAT, index=0, _device=\"/job:localhost/replica:0/task:0/device:CPU:0\"](Variable_37)]]",
     "output_type": "error",
     "traceback": [
      "\u001b[0;31m---------------------------------------------------------------------------\u001b[0m",
      "\u001b[0;31mFailedPreconditionError\u001b[0m                   Traceback (most recent call last)",
      "\u001b[0;32m<ipython-input-19-689e4f0fc1d2>\u001b[0m in \u001b[0;36m<module>\u001b[0;34m()\u001b[0m\n\u001b[1;32m      2\u001b[0m     \u001b[0minit_op\u001b[0m \u001b[0;34m=\u001b[0m \u001b[0mtf\u001b[0m\u001b[0;34m.\u001b[0m\u001b[0mglobal_variables_initializer\u001b[0m\u001b[0;34m(\u001b[0m\u001b[0;34m)\u001b[0m\u001b[0;34m\u001b[0m\u001b[0m\n\u001b[1;32m      3\u001b[0m     \u001b[0minit_ops\u001b[0m \u001b[0;34m=\u001b[0m \u001b[0mtf\u001b[0m\u001b[0;34m.\u001b[0m\u001b[0mVariable\u001b[0m\u001b[0;34m(\u001b[0m\u001b[0mtf\u001b[0m\u001b[0;34m.\u001b[0m\u001b[0mconstant\u001b[0m\u001b[0;34m(\u001b[0m\u001b[0;36m0.1\u001b[0m\u001b[0;34m,\u001b[0m \u001b[0mshape\u001b[0m\u001b[0;34m=\u001b[0m\u001b[0;34m[\u001b[0m\u001b[0;36m2\u001b[0m\u001b[0;34m]\u001b[0m\u001b[0;34m)\u001b[0m\u001b[0;34m)\u001b[0m\u001b[0;34m\u001b[0m\u001b[0m\n\u001b[0;32m----> 4\u001b[0;31m     \u001b[0;32mprint\u001b[0m \u001b[0msess\u001b[0m\u001b[0;34m.\u001b[0m\u001b[0mrun\u001b[0m\u001b[0;34m(\u001b[0m\u001b[0minit_ops\u001b[0m\u001b[0;34m)\u001b[0m\u001b[0;34m\u001b[0m\u001b[0m\n\u001b[0m",
      "\u001b[0;32m/Users/xuning/anaconda3/envs/python27/lib/python2.7/site-packages/tensorflow/python/client/session.pyc\u001b[0m in \u001b[0;36mrun\u001b[0;34m(self, fetches, feed_dict, options, run_metadata)\u001b[0m\n\u001b[1;32m    903\u001b[0m     \u001b[0;32mtry\u001b[0m\u001b[0;34m:\u001b[0m\u001b[0;34m\u001b[0m\u001b[0m\n\u001b[1;32m    904\u001b[0m       result = self._run(None, fetches, feed_dict, options_ptr,\n\u001b[0;32m--> 905\u001b[0;31m                          run_metadata_ptr)\n\u001b[0m\u001b[1;32m    906\u001b[0m       \u001b[0;32mif\u001b[0m \u001b[0mrun_metadata\u001b[0m\u001b[0;34m:\u001b[0m\u001b[0;34m\u001b[0m\u001b[0m\n\u001b[1;32m    907\u001b[0m         \u001b[0mproto_data\u001b[0m \u001b[0;34m=\u001b[0m \u001b[0mtf_session\u001b[0m\u001b[0;34m.\u001b[0m\u001b[0mTF_GetBuffer\u001b[0m\u001b[0;34m(\u001b[0m\u001b[0mrun_metadata_ptr\u001b[0m\u001b[0;34m)\u001b[0m\u001b[0;34m\u001b[0m\u001b[0m\n",
      "\u001b[0;32m/Users/xuning/anaconda3/envs/python27/lib/python2.7/site-packages/tensorflow/python/client/session.pyc\u001b[0m in \u001b[0;36m_run\u001b[0;34m(self, handle, fetches, feed_dict, options, run_metadata)\u001b[0m\n\u001b[1;32m   1138\u001b[0m     \u001b[0;32mif\u001b[0m \u001b[0mfinal_fetches\u001b[0m \u001b[0;32mor\u001b[0m \u001b[0mfinal_targets\u001b[0m \u001b[0;32mor\u001b[0m \u001b[0;34m(\u001b[0m\u001b[0mhandle\u001b[0m \u001b[0;32mand\u001b[0m \u001b[0mfeed_dict_tensor\u001b[0m\u001b[0;34m)\u001b[0m\u001b[0;34m:\u001b[0m\u001b[0;34m\u001b[0m\u001b[0m\n\u001b[1;32m   1139\u001b[0m       results = self._do_run(handle, final_targets, final_fetches,\n\u001b[0;32m-> 1140\u001b[0;31m                              feed_dict_tensor, options, run_metadata)\n\u001b[0m\u001b[1;32m   1141\u001b[0m     \u001b[0;32melse\u001b[0m\u001b[0;34m:\u001b[0m\u001b[0;34m\u001b[0m\u001b[0m\n\u001b[1;32m   1142\u001b[0m       \u001b[0mresults\u001b[0m \u001b[0;34m=\u001b[0m \u001b[0;34m[\u001b[0m\u001b[0;34m]\u001b[0m\u001b[0;34m\u001b[0m\u001b[0m\n",
      "\u001b[0;32m/Users/xuning/anaconda3/envs/python27/lib/python2.7/site-packages/tensorflow/python/client/session.pyc\u001b[0m in \u001b[0;36m_do_run\u001b[0;34m(self, handle, target_list, fetch_list, feed_dict, options, run_metadata)\u001b[0m\n\u001b[1;32m   1319\u001b[0m     \u001b[0;32mif\u001b[0m \u001b[0mhandle\u001b[0m \u001b[0;32mis\u001b[0m \u001b[0mNone\u001b[0m\u001b[0;34m:\u001b[0m\u001b[0;34m\u001b[0m\u001b[0m\n\u001b[1;32m   1320\u001b[0m       return self._do_call(_run_fn, feeds, fetches, targets, options,\n\u001b[0;32m-> 1321\u001b[0;31m                            run_metadata)\n\u001b[0m\u001b[1;32m   1322\u001b[0m     \u001b[0;32melse\u001b[0m\u001b[0;34m:\u001b[0m\u001b[0;34m\u001b[0m\u001b[0m\n\u001b[1;32m   1323\u001b[0m       \u001b[0;32mreturn\u001b[0m \u001b[0mself\u001b[0m\u001b[0;34m.\u001b[0m\u001b[0m_do_call\u001b[0m\u001b[0;34m(\u001b[0m\u001b[0m_prun_fn\u001b[0m\u001b[0;34m,\u001b[0m \u001b[0mhandle\u001b[0m\u001b[0;34m,\u001b[0m \u001b[0mfeeds\u001b[0m\u001b[0;34m,\u001b[0m \u001b[0mfetches\u001b[0m\u001b[0;34m)\u001b[0m\u001b[0;34m\u001b[0m\u001b[0m\n",
      "\u001b[0;32m/Users/xuning/anaconda3/envs/python27/lib/python2.7/site-packages/tensorflow/python/client/session.pyc\u001b[0m in \u001b[0;36m_do_call\u001b[0;34m(self, fn, *args)\u001b[0m\n\u001b[1;32m   1338\u001b[0m         \u001b[0;32mexcept\u001b[0m \u001b[0mKeyError\u001b[0m\u001b[0;34m:\u001b[0m\u001b[0;34m\u001b[0m\u001b[0m\n\u001b[1;32m   1339\u001b[0m           \u001b[0;32mpass\u001b[0m\u001b[0;34m\u001b[0m\u001b[0m\n\u001b[0;32m-> 1340\u001b[0;31m       \u001b[0;32mraise\u001b[0m \u001b[0mtype\u001b[0m\u001b[0;34m(\u001b[0m\u001b[0me\u001b[0m\u001b[0;34m)\u001b[0m\u001b[0;34m(\u001b[0m\u001b[0mnode_def\u001b[0m\u001b[0;34m,\u001b[0m \u001b[0mop\u001b[0m\u001b[0;34m,\u001b[0m \u001b[0mmessage\u001b[0m\u001b[0;34m)\u001b[0m\u001b[0;34m\u001b[0m\u001b[0m\n\u001b[0m\u001b[1;32m   1341\u001b[0m \u001b[0;34m\u001b[0m\u001b[0m\n\u001b[1;32m   1342\u001b[0m   \u001b[0;32mdef\u001b[0m \u001b[0m_extend_graph\u001b[0m\u001b[0;34m(\u001b[0m\u001b[0mself\u001b[0m\u001b[0;34m)\u001b[0m\u001b[0;34m:\u001b[0m\u001b[0;34m\u001b[0m\u001b[0m\n",
      "\u001b[0;31mFailedPreconditionError\u001b[0m: Attempting to use uninitialized value Variable_37\n\t [[Node: _retval_Variable_37_0_0 = _Retval[T=DT_FLOAT, index=0, _device=\"/job:localhost/replica:0/task:0/device:CPU:0\"](Variable_37)]]"
     ]
    }
   ],
   "source": [
    "with tf.Session() as sess:\n",
    "    init_op = tf.global_variables_initializer()\n",
    "    init_ops = tf.Variable(tf.constant(0.1, shape=[2]))\n",
    "    print sess.run(init_ops)\n",
    "    "
   ]
  },
  {
   "cell_type": "code",
   "execution_count": null,
   "metadata": {
    "collapsed": true
   },
   "outputs": [],
   "source": []
  }
 ],
 "metadata": {
  "kernelspec": {
   "display_name": "Python 2",
   "language": "python",
   "name": "python2"
  },
  "language_info": {
   "codemirror_mode": {
    "name": "ipython",
    "version": 2
   },
   "file_extension": ".py",
   "mimetype": "text/x-python",
   "name": "python",
   "nbconvert_exporter": "python",
   "pygments_lexer": "ipython2",
   "version": "2.7.13"
  },
  "pycharm": {
   "stem_cell": {
    "cell_type": "raw",
    "metadata": {
     "collapsed": false
    },
    "source": []
   }
  }
 },
 "nbformat": 4,
 "nbformat_minor": 4
}
